{
 "cells": [
  {
   "cell_type": "markdown",
   "metadata": {},
   "source": [
    "# Introduction to deep learning assignment"
   ]
  },
  {
   "cell_type": "markdown",
   "metadata": {},
   "source": [
    "**1. Which industries commonly use Deep Learning for image recognition applications?**\n",
    "\n",
    "- A. Healthcare\n",
    "- B. Manufacturing\n",
    "- C. Retail\n",
    "- D. All of the above\n"
   ]
  },
  {
   "cell_type": "markdown",
   "metadata": {},
   "source": [
    "The correct answer is:\n",
    "\n",
    "D. All of the above\n",
    "\n",
    "- Healthcare: Used for medical image analysis, such as detecting tumors in MRIs, identifying abnormalities in X-rays, and diagnosing diseases from retinal scans\n",
    "\n",
    "- Manufacturing: Applied in quality control, defect detection in products, and predictive maintenance using computer vision.\n",
    "\n",
    "- Retail: Used for customer behavior analysis, checkout automation (e.g., Amazon Go), inventory management, and visual search.\n",
    "\n",
    "- Since all these industries utilize deep learning for image recognition, \n",
    "\n",
    "- D. All of the above is the correct choice."
   ]
  },
  {
   "cell_type": "markdown",
   "metadata": {},
   "source": [
    "**2. What distinguishes Deep Learning from traditional Machine Learning?**\n",
    "\n",
    "- A. Depth of neural networks\n",
    "- B. Type of algoriths used\n",
    "- C. Machine learning is an evolution of deep learning\n",
    "- D. Volume of data processed"
   ]
  },
  {
   "cell_type": "markdown",
   "metadata": {},
   "source": [
    "The correct answer is:\n",
    "\n",
    "A & D.\n",
    "\n",
    "- Deep learning relies on multiple layers of Dense Neural networks and machine learning does not.\n",
    "- Training a deep learning model requires larger volumes of data as compared to traditional machine learning algorithms\n",
    "\n",
    "- Due to the above mentioned reasons, A & D are correct"
   ]
  },
  {
   "cell_type": "markdown",
   "metadata": {},
   "source": [
    "**3. Which metrics are commonly used to evaluate the performance of a classification model?**\n",
    "\n",
    "- A. Mean squared error\n",
    "- B. Root Mean squared error\n",
    "- C. F1 score\n",
    "- D. R - squared"
   ]
  },
  {
   "cell_type": "markdown",
   "metadata": {},
   "source": [
    "The correct answer is:\n",
    "\n",
    "C. F1-score\n",
    "\n",
    "- Mean squared error, Root mean squared error and R-squared are used to evaluate a regression model\n",
    "- F1 score which is a geometric mean of precision and recall is used to evaluate the performance of a classification model"
   ]
  },
  {
   "cell_type": "markdown",
   "metadata": {},
   "source": [
    "**4. Which of the following are the key components of Deep Learning**\n",
    "\n",
    "- A. Decision Trees\n",
    "- B. Neural Networks\n",
    "- C. Support Vector Machines\n",
    "- D. K-Means Clustering"
   ]
  },
  {
   "cell_type": "markdown",
   "metadata": {},
   "source": [
    "The correct answer is:\n",
    "\n",
    "B. Neural Networks\n",
    "\n",
    "- Decision Trees and Support Vector Machines are supervised learning models of traditional machine learning and K-Means Clustering is an unsupervised learning model\n",
    "- Layers of nerual networks are the fundamental components of Deep learning which carry out feed forward and back propogation to predict accurate outcomes\n",
    "\n",
    "- Hence, option B is correct"
   ]
  },
  {
   "cell_type": "markdown",
   "metadata": {},
   "source": [
    "**5. What are the main challenges in training deep neural networks?**\n",
    "\n",
    "- A. Lack of labeled data\n",
    "- B. Overfitting\n",
    "- C. Underfitting\n",
    "- D. None of the above\n"
   ]
  },
  {
   "cell_type": "markdown",
   "metadata": {},
   "source": [
    "The correct answer is:\n",
    "\n",
    "A. Lack of labeled data\n",
    "\n",
    "- Training a deep neural network requires large volumens of data compared to the traditional machine learning approach\n",
    "- This becomes even more difficult when we get into the niches\n",
    "- However, the availibility of pretrained models has made implementing Deep learning models slighlty easier"
   ]
  },
  {
   "cell_type": "markdown",
   "metadata": {},
   "source": [
    "**6. Which technology is a subset of AI and focuses on training models to learn from data?**\n",
    "\n",
    "- A. Artificial Intelligence\n",
    "- B. Machine learning\n",
    "- C. Deep Learning\n",
    "- D. Data science"
   ]
  },
  {
   "cell_type": "markdown",
   "metadata": {},
   "source": [
    "The correct answer is:\n",
    "\n",
    "B & C\n",
    "\n",
    "- Artificial Intelligence - The question is about the subset of AI, artificial intelligence is not a subset of AI, it is AI. Hence, option A is not correct\n",
    "- Machine learning and deep learning both fit as the answer. Both use existing data to train models. Hence option B & C are correct\n",
    "- Data science is an umbrella terma which may include Machine learning, Deep Learning, Data analysis, statistics, visualizations etc. Hence, this is a generic and does not fit here"
   ]
  },
  {
   "cell_type": "markdown",
   "metadata": {},
   "source": [
    "**7. In the context of Deep Learning, what is a neural network?**\n",
    "\n",
    "- A. A network of interconnected computers\n",
    "- B. A network of interconnected neurons\n",
    "- C. A network of interconnected Databases\n",
    "- D. A network of interconnected algorithms"
   ]
  },
  {
   "cell_type": "markdown",
   "metadata": {},
   "source": [
    "The correct answer is:\n",
    "\n",
    "B. A network of interconnected neurons\n",
    "\n",
    "- Deep learning models implement neural network for prediction. Each neural network has one or more nodes and the layers are connected with each other enabling feed forward and back propogation "
   ]
  },
  {
   "cell_type": "markdown",
   "metadata": {},
   "source": [
    "**8. What is the role of hyperparameter tuning in the model evaluation phase?**\n",
    "\n",
    "- To adjust the learning rate\n",
    "- To optimize model parameters for better performance\n",
    "- To select features\n",
    "- To process the data"
   ]
  },
  {
   "cell_type": "markdown",
   "metadata": {},
   "source": [
    "The correct answer is:\n",
    "\n",
    "B. To optimize model parameters for better perfromance\n",
    "\n",
    "- Tuning the parameters may yield better performance by improving accuracy, precision and recall\n",
    "- We may need to tune these parameters based on the data and the problem statement\n",
    "- In Deep learning models, we may adjust the learning rate, optimizer algorithm, introduce regularization to improve the performance of our model"
   ]
  },
  {
   "cell_type": "markdown",
   "metadata": {},
   "source": [
    "**9. What is the primary goal during the project initiation phase of a Deep Learning project?**\n",
    "\n",
    "- A. Model training\n",
    "- B. Define the problem and scope\n",
    "- C. Hyperparmeter tuning\n",
    "- D. Data collection"
   ]
  },
  {
   "cell_type": "markdown",
   "metadata": {},
   "source": [
    "The correct answer is:\n",
    "\n",
    "B. Define the problem and scope\n",
    "\n",
    "- Model training is usually performed after we have done our EDA, feature engineering, scaling etc. This is not done in the initiaition phase\n",
    "- Defining the problem and scope is the first step in the iniation phase. Defining the problem gives a direction and aim of the project\n",
    "- Hyperparameter tuning is done after the model has been trained and evaluated. If the model performance is not satisfactory we may tune certain parameters. This is not done in the initiation phase\n",
    "- Data collection is done prior to the initiation of Deep Learning project. Once we have data, then we can begin our deep learning project"
   ]
  },
  {
   "cell_type": "markdown",
   "metadata": {},
   "source": [
    "**10. Why is continuous monitoring important in the life cycle of a deployed Deep Learning model?**\n",
    "\n",
    "- A. To retrain the model from scratch\n",
    "- B. To ensure model adapts to the changing data patterns\n",
    "- C. To deploy new model version daily\n",
    "- D. To skip the model evaluation phase"
   ]
  },
  {
   "cell_type": "markdown",
   "metadata": {},
   "source": [
    "The correct answer is:\n",
    "\n",
    "B. To ensure model adapts to the changing data patterns\n",
    "\n",
    "- Once the model is deployed, predictions are made in real time based on the new data. To ensure the performance of our model it is important to monitor how the model is performing on the new data. If our model's peformance drops then we may need to retrain the model or tune the parameters so it can make accurate predictions on the new data"
   ]
  },
  {
   "cell_type": "markdown",
   "metadata": {},
   "source": []
  }
 ],
 "metadata": {
  "language_info": {
   "name": "python"
  }
 },
 "nbformat": 4,
 "nbformat_minor": 2
}
